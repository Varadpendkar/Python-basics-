{
 "cells": [
  {
   "cell_type": "markdown",
   "metadata": {},
   "source": [
    "# Indexing\n"
   ]
  },
  {
   "cell_type": "code",
   "execution_count": 8,
   "metadata": {},
   "outputs": [],
   "source": [
    "import numpy as np"
   ]
  },
  {
   "cell_type": "code",
   "execution_count": 9,
   "metadata": {},
   "outputs": [],
   "source": [
    "arr2 = np.random.randint(0, 100,(10,10))"
   ]
  },
  {
   "cell_type": "code",
   "execution_count": 10,
   "metadata": {},
   "outputs": [
    {
     "data": {
      "text/plain": [
       "array([[ 6, 37, 81,  6, 87, 17,  5, 10,  1, 79],\n",
       "       [91, 18, 48,  5, 16, 40, 69, 26, 40, 58],\n",
       "       [62, 15, 24, 22, 88, 43, 23, 62,  4, 99],\n",
       "       [40, 20, 59, 11, 46,  1, 69, 22, 38, 13],\n",
       "       [31, 20, 45,  1, 89, 26, 56, 69, 37, 50],\n",
       "       [59, 96, 27, 49, 78, 72, 40, 75, 62, 97],\n",
       "       [ 1, 10, 89, 62, 59, 30,  1, 73, 93, 16],\n",
       "       [49, 48, 97, 51, 14, 26, 38, 65,  0, 68],\n",
       "       [71, 49, 22, 28,  2, 43,  0,  0,  0, 96],\n",
       "       [51, 43, 13, 83,  8, 82, 98, 54,  0, 22]])"
      ]
     },
     "execution_count": 10,
     "metadata": {},
     "output_type": "execute_result"
    }
   ],
   "source": [
    "arr2 "
   ]
  },
  {
   "cell_type": "code",
   "execution_count": 11,
   "metadata": {},
   "outputs": [],
   "source": [
    "row  = 4\n",
    "col = 5 "
   ]
  },
  {
   "cell_type": "code",
   "execution_count": 13,
   "metadata": {},
   "outputs": [
    {
     "data": {
      "text/plain": [
       "np.int64(26)"
      ]
     },
     "execution_count": 13,
     "metadata": {},
     "output_type": "execute_result"
    }
   ],
   "source": [
    "arr2[row, col]"
   ]
  },
  {
   "cell_type": "code",
   "execution_count": 14,
   "metadata": {},
   "outputs": [
    {
     "data": {
      "text/plain": [
       "array([31, 20, 45,  1, 89, 26, 56, 69, 37, 50])"
      ]
     },
     "execution_count": 14,
     "metadata": {},
     "output_type": "execute_result"
    }
   ],
   "source": [
    "arr2[4]"
   ]
  },
  {
   "cell_type": "markdown",
   "metadata": {},
   "source": [
    "# how to print specific colummn\n"
   ]
  },
  {
   "cell_type": "code",
   "execution_count": 15,
   "metadata": {},
   "outputs": [
    {
     "data": {
      "text/plain": [
       "array([17, 40, 43,  1, 26, 72, 30, 26, 43, 82])"
      ]
     },
     "execution_count": 15,
     "metadata": {},
     "output_type": "execute_result"
    }
   ],
   "source": [
    "arr2[:,col]"
   ]
  },
  {
   "cell_type": "code",
   "execution_count": 17,
   "metadata": {},
   "outputs": [
    {
     "data": {
      "text/plain": [
       "array([17, 40, 43,  1, 26, 72, 30, 26, 43, 82])"
      ]
     },
     "execution_count": 17,
     "metadata": {},
     "output_type": "execute_result"
    }
   ],
   "source": [
    "arr2[:,5]"
   ]
  },
  {
   "cell_type": "code",
   "execution_count": 19,
   "metadata": {},
   "outputs": [
    {
     "data": {
      "text/plain": [
       "array([[ 6, 37, 81,  6, 87, 17,  5, 10,  1, 79],\n",
       "       [91, 18, 48,  5, 16, 40, 69, 26, 40, 58],\n",
       "       [62, 15, 24, 22, 88, 43, 23, 62,  4, 99],\n",
       "       [40, 20, 59, 11, 46,  1, 69, 22, 38, 13],\n",
       "       [31, 20, 45,  1, 89, 26, 56, 69, 37, 50],\n",
       "       [59, 96, 27, 49, 78, 72, 40, 75, 62, 97],\n",
       "       [ 1, 10, 89, 62, 59, 30,  1, 73, 93, 16],\n",
       "       [49, 48, 97, 51, 14, 26, 38, 65,  0, 68],\n",
       "       [71, 49, 22, 28,  2, 43,  0,  0,  0, 96],\n",
       "       [51, 43, 13, 83,  8, 82, 98, 54,  0, 22]])"
      ]
     },
     "execution_count": 19,
     "metadata": {},
     "output_type": "execute_result"
    }
   ],
   "source": [
    "arr2[0:10]"
   ]
  },
  {
   "cell_type": "code",
   "execution_count": 20,
   "metadata": {},
   "outputs": [
    {
     "data": {
      "text/plain": [
       "array([[ 6, 37, 81,  6, 87, 17,  5, 10,  1, 79],\n",
       "       [40, 20, 59, 11, 46,  1, 69, 22, 38, 13],\n",
       "       [ 1, 10, 89, 62, 59, 30,  1, 73, 93, 16],\n",
       "       [51, 43, 13, 83,  8, 82, 98, 54,  0, 22]])"
      ]
     },
     "execution_count": 20,
     "metadata": {},
     "output_type": "execute_result"
    }
   ],
   "source": [
    "arr2[0:10:3]"
   ]
  },
  {
   "cell_type": "code",
   "execution_count": 22,
   "metadata": {},
   "outputs": [
    {
     "data": {
      "text/plain": [
       "array([[22, 88, 43, 23],\n",
       "       [11, 46,  1, 69],\n",
       "       [ 1, 89, 26, 56],\n",
       "       [49, 78, 72, 40]])"
      ]
     },
     "execution_count": 22,
     "metadata": {},
     "output_type": "execute_result"
    }
   ],
   "source": [
    "arr2[2:6, 3:7]# 2:6 is row and 3:7 is column"
   ]
  },
  {
   "cell_type": "markdown",
   "metadata": {},
   "source": [
    "# Masking\n"
   ]
  },
  {
   "cell_type": "code",
   "execution_count": 29,
   "metadata": {},
   "outputs": [
    {
     "data": {
      "text/plain": [
       "array([ 6, 37,  6, 17,  5, 10,  1, 18, 48,  5, 16, 40, 26, 40, 15, 24, 22,\n",
       "       43, 23,  4, 40, 20, 11, 46,  1, 22, 38, 13, 31, 20, 45,  1, 26, 37,\n",
       "       50, 27, 49, 40,  1, 10, 30,  1, 16, 49, 48, 14, 26, 38,  0, 49, 22,\n",
       "       28,  2, 43,  0,  0,  0, 43, 13,  8,  0, 22])"
      ]
     },
     "execution_count": 29,
     "metadata": {},
     "output_type": "execute_result"
    }
   ],
   "source": [
    "arr2[arr2<=50]"
   ]
  },
  {
   "cell_type": "code",
   "execution_count": null,
   "metadata": {},
   "outputs": [],
   "source": []
  }
 ],
 "metadata": {
  "kernelspec": {
   "display_name": "Python 3",
   "language": "python",
   "name": "python3"
  },
  "language_info": {
   "codemirror_mode": {
    "name": "ipython",
    "version": 3
   },
   "file_extension": ".py",
   "mimetype": "text/x-python",
   "name": "python",
   "nbconvert_exporter": "python",
   "pygments_lexer": "ipython3",
   "version": "3.13.2"
  }
 },
 "nbformat": 4,
 "nbformat_minor": 2
}
